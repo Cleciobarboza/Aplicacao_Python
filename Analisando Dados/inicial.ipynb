{
 "cells": [
  {
   "cell_type": "markdown",
   "metadata": {},
   "source": [
    "# Python Insights - Analisando Dados com Python\n",
    "\n",
    "### Case - Cancelamento de Clientes\n",
    "\n",
    "Você foi contratado por uma empresa com mais de 800 mil clientes para um projeto de Dados. Recentemente a empresa percebeu que da sua base total de clientes, a maioria são clientes inativos, ou seja, que já cancelaram o serviço.\n",
    "\n",
    "Precisando melhorar seus resultados ela quer conseguir entender os principais motivos desses cancelamentos e quais as ações mais eficientes para reduzir esse número.\n",
    "\n",
    "Base de dados e arquivos: https://drive.google.com/drive/folders/1uDesZePdkhiraJmiyeZ-w5tfc8XsNYFZ?usp=drive_link"
   ]
  },
  {
   "cell_type": "code",
   "execution_count": null,
   "metadata": {},
   "outputs": [],
   "source": [
    "\n",
    "!pip install pandas numpy openpyxl nbformat ipykernel plotly"
   ]
  },
  {
   "cell_type": "code",
   "execution_count": null,
   "metadata": {},
   "outputs": [],
   "source": [
    "# Passo a Passo\n",
    "# 1. Importar a base de dados\n",
    "import pandas as pd\n",
    "\n",
    "tabela = pandas.read_csv(\"cancelamentos.csv\")"
   ]
  },
  {
   "cell_type": "code",
   "execution_count": null,
   "metadata": {},
   "outputs": [],
   "source": [
    "# 2. Visualizar a base de dados para entender o que tem nela\n",
    "#informação que não ajuda só atrapalha\n",
    "#Customer ID\n",
    "tabela = tabela,drop(columns=\"CustomerID\")\n",
    "display(tabela)\n"
   ]
  },
  {
   "cell_type": "code",
   "execution_count": null,
   "metadata": {},
   "outputs": [],
   "source": [
    "# 3. Tratar a base de dados (corrigir problemas de dados vazios)\n",
    "\n",
    "display(tabela.info())\n",
    "tabela = tabela.dropna()\n",
    "display(tabela.info())\n"
   ]
  },
  {
   "cell_type": "code",
   "execution_count": null,
   "metadata": {},
   "outputs": [],
   "source": [
    "# 4. Análise inicial -->quantos clientes cancelaram e qual % de clientes\n",
    "# contar na coluna cancelou os valores\n",
    "\n",
    "display(tabela[\"cancelou\"].value_counts())\n",
    "#percentual\n",
    "display(tabela[\"cancelou\"].value_counts(normalize=True))"
   ]
  },
  {
   "cell_type": "code",
   "execution_count": null,
   "metadata": {},
   "outputs": [],
   "source": [
    "\n",
    "# 5. Análise da causa do cancelamento\n",
    "#(comparar as outras colunas da tabelas com a coluna de cancelamento)\n",
    "# grádicos\n",
    "import plotly.express as px\n",
    "\n",
    "for coluna in tabela.columns:\n",
    "    # criar o gráfico\n",
    "    grafico = px.histogram(tabela, x= coluna, color=\"cancelou\", text_auto = True)\n",
    "    # exibir o grádico\n",
    "    grafico.show()\n",
    "\n"
   ]
  },
  {
   "cell_type": "code",
   "execution_count": null,
   "metadata": {},
   "outputs": [],
   "source": [
    "# Problema 1 usuários de contrato mensal sempre cancelaram\n",
    "    # evitar o contrato mensal e inventivar (com desconto)os contratos anuais e trimestrais\n",
    "# Problema 2 todos os usuários que ligaram mais de 4x para o call center, cancelaram o serviço\n",
    "    # criar um processo que quando um usuário bateu 3 ligações para o call center, alerta vermelho\n",
    "# Problema 3 usuário que atrasaram o pagamento mais de 20 dias, cancelaram\n",
    "    # criar um alerta para quando a atraso do pagamento bater 15 dias, entrar em contato\n"
   ]
  },
  {
   "cell_type": "code",
   "execution_count": null,
   "metadata": {},
   "outputs": [],
   "source": [
    "# Resolução 1 \n",
    "# duracao_contrato -> diferente de mensal\n",
    "\n",
    "tabela =  tabela [tabela[\"duracao_contrato\"] != Monthly]\n",
    "\n",
    "# Resolução 2\n",
    "# ligacoes_callcenter -> menor ou igual a 4\n",
    "\n",
    "tabela =  tabela [tabela[\"ligacoes_callcenter\"] <= 4]\n",
    "\n",
    "# Resolução 3\n",
    "# atraso_pagamento <= 20 dias\n",
    "\n",
    "tabela =  tabela [tabela[\"atraso_pagamento\"] <= 20]\n",
    "\n",
    "\n",
    "\n",
    "#percentual\n",
    "display(tabela[\"cancelou\"].value_counts(normalize=True))"
   ]
  }
 ],
 "metadata": {
  "kernelspec": {
   "display_name": "base",
   "language": "python",
   "name": "python3"
  },
  "language_info": {
   "codemirror_mode": {
    "name": "ipython",
    "version": 3
   },
   "file_extension": ".py",
   "mimetype": "text/x-python",
   "name": "python",
   "nbconvert_exporter": "python",
   "pygments_lexer": "ipython3",
   "version": "3.10.9"
  },
  "orig_nbformat": 4
 },
 "nbformat": 4,
 "nbformat_minor": 2
}
